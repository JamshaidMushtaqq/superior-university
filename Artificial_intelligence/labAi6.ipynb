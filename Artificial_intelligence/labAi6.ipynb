{
 "cells": [
  {
   "cell_type": "code",
   "execution_count": 3,
   "metadata": {},
   "outputs": [],
   "source": [
    "# Lab 6\n",
    "# Task 1: BFS without Queue & without Node\n",
    "\n",
    "def dfs(tree, start):\n",
    "    visited = set()\n",
    "    to_visit = [start]\n",
    "    while to_visit:\n",
    "        node = to_visit.pop(0)\n",
    "        if node not in visited:\n",
    "            print(f'visited: {node}')\n",
    "            visited.add(node)\n",
    "            to_visit.extend(tree.get(node, []))"
   ]
  },
  {
   "cell_type": "code",
   "execution_count": 5,
   "metadata": {},
   "outputs": [
    {
     "name": "stdout",
     "output_type": "stream",
     "text": [
      "Visited: A\n",
      "Visited: B\n",
      "Visited: C\n",
      "Visited: D\n",
      "Visited: E\n",
      "Visited: F\n"
     ]
    }
   ],
   "source": [
    "if __name__ == \"__main__\":\n",
    "    tree = {\n",
    "        'A': ['B', 'C'],\n",
    "        'B': ['D', 'E'],\n",
    "        'C': ['F'],\n",
    "        'D': [],\n",
    "        'E': [],\n",
    "        'F': []\n",
    "    }\n",
    "bfs(tree, 'A')"
   ]
  },
  {
   "cell_type": "code",
   "execution_count": 13,
   "metadata": {},
   "outputs": [],
   "source": [
    "# Task 2: BFS with Queue & Node\n",
    "from collections import deque\n",
    "class node:\n",
    "    def __init__(self, value):\n",
    "        self.value = value\n",
    "        self.neighbours = []\n",
    "    def add_neighbours(self,node):\n",
    "        self.neighbours.append(node)\n",
    "def bfs_with_queue(start_node):\n",
    "    visited = set()\n",
    "    queue = deque([start_node])\n",
    "    while queue:\n",
    "        node = queue.popleft()\n",
    "        if node not in visited:\n",
    "            print(f'visited: {node.value}')\n",
    "            visited.add(node) \n",
    "            for neighbour in node.neighbours:\n",
    "                if neighbour not in visited:\n",
    "                    queue.append(neighbour)        "
   ]
  },
  {
   "cell_type": "code",
   "execution_count": 14,
   "metadata": {},
   "outputs": [
    {
     "name": "stdout",
     "output_type": "stream",
     "text": [
      "visited: A\n",
      "visited: B\n",
      "visited: C\n",
      "visited: D\n",
      "visited: E\n",
      "visited: F\n"
     ]
    }
   ],
   "source": [
    "if __name__ == \"__main__\":\n",
    "    a = node(\"A\")\n",
    "    b = node(\"B\")\n",
    "    c = node(\"C\")\n",
    "    d = node(\"D\")\n",
    "    e = node(\"E\")\n",
    "    f = node(\"F\")\n",
    "    a.add_neighbours(b)\n",
    "    a.add_neighbours(c)\n",
    "    b.add_neighbours(d)\n",
    "    b.add_neighbours(e)\n",
    "    c.add_neighbours(f)\n",
    "    bfs_with_queue(a)"
   ]
  },
  {
   "cell_type": "code",
   "execution_count": null,
   "metadata": {},
   "outputs": [],
   "source": []
  }
 ],
 "metadata": {
  "kernelspec": {
   "display_name": "Python 3",
   "language": "python",
   "name": "python3"
  },
  "language_info": {
   "codemirror_mode": {
    "name": "ipython",
    "version": 3
   },
   "file_extension": ".py",
   "mimetype": "text/x-python",
   "name": "python",
   "nbconvert_exporter": "python",
   "pygments_lexer": "ipython3",
   "version": "3.12.1"
  }
 },
 "nbformat": 4,
 "nbformat_minor": 2
}
