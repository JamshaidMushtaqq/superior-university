{
 "cells": [
  {
   "cell_type": "code",
   "execution_count": 1,
   "metadata": {},
   "outputs": [
    {
     "name": "stdout",
     "output_type": "stream",
     "text": [
      "Fizz Buzz Game\n",
      "1\n",
      "2\n",
      "Fizz\n",
      "4\n",
      "Buzz\n",
      "Fizz\n",
      "7\n",
      "8\n"
     ]
    }
   ],
   "source": [
    "# Question no 1\n",
    "print(\"Fizz Buzz Game\")\n",
    "start = int(input(\"enter the starting number:\"))\n",
    "end = int(input(\"enter the ending number:\"))\n",
    "for number in range(start,end+1):\n",
    "    if number%3==0 and number%5==0:\n",
    "        print(\"FizzBuzz\")\n",
    "    elif number%3==0:\n",
    "        print(\"Fizz\")\n",
    "    elif number%5==0:\n",
    "        print(\"Buzz\")\n",
    "    else:\n",
    "        print(number)         "
   ]
  },
  {
   "cell_type": "code",
   "execution_count": 2,
   "metadata": {},
   "outputs": [
    {
     "name": "stdout",
     "output_type": "stream",
     "text": [
      "total budget: 4000001633500000\n",
      "average budget: 444444625944444.44\n",
      "hgfds has budget that is 3555555374055555.5 above the average budget\n",
      "high_budget_movies: [('hgfds', 3555555374055555.5)]\n"
     ]
    }
   ],
   "source": [
    "# Question no 2\n",
    "movies = [\n",
    "    (\"Eternal Sunshine of the Spotless Mind\", 20000000),\n",
    "    (\"Memento\", 9000000),\n",
    "    (\"Requiem for a Dream\", 4500000),\n",
    "    (\"Pirates of the Caribbean: On Stranger Tides\", 379000000),\n",
    "    (\"Avengers: Age of Ultron\", 365000000),\n",
    "    (\"Avengers: Endgame\", 356000000),\n",
    "    (\"Incredibles 2\", 200000000)\n",
    "]\n",
    "additional_movies= int(input(\"enter the number of additional movies:\"))\n",
    "for i in range(additional_movies):\n",
    "    name = input(\"enter the movie name:\")\n",
    "    budget = int(input(\"enter the movie budget:\"))\n",
    "    movies.append((name,budget))\n",
    "total_budget = sum(budget for _, budget in movies)\n",
    "average_budget = total_budget/ len(movies)\n",
    "print(\"total budget:\",total_budget)\n",
    "print(\"average budget:\",average_budget)\n",
    "high_budget_movies= []\n",
    "for name, budget in movies:\n",
    "    if budget > average_budget:\n",
    "        deffirence = budget - average_budget\n",
    "        high_budget_movies.append((name, deffirence))\n",
    "        print(f'{name} has budget that is {deffirence} above the average budget')\n",
    "print(\"high_budget_movies:\",high_budget_movies)\n",
    "\n"
   ]
  },
  {
   "cell_type": "code",
   "execution_count": null,
   "metadata": {},
   "outputs": [],
   "source": []
  }
 ],
 "metadata": {
  "kernelspec": {
   "display_name": "Python 3",
   "language": "python",
   "name": "python3"
  },
  "language_info": {
   "codemirror_mode": {
    "name": "ipython",
    "version": 3
   },
   "file_extension": ".py",
   "mimetype": "text/x-python",
   "name": "python",
   "nbconvert_exporter": "python",
   "pygments_lexer": "ipython3",
   "version": "3.12.1"
  }
 },
 "nbformat": 4,
 "nbformat_minor": 2
}
