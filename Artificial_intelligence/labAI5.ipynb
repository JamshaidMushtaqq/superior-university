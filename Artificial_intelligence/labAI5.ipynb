{
 "cells": [
  {
   "cell_type": "code",
   "execution_count": 13,
   "metadata": {},
   "outputs": [
    {
     "name": "stdout",
     "output_type": "stream",
     "text": [
      "nodes provided: ['A', 'B', 'C', 'D', 'E']\n",
      "starting dfs from node: A\n",
      "visited: A\n",
      "neighbors of A (to visit next): ['C', 'B']\n",
      "visited: B\n",
      "neighbors of B (to visit next): ['D']\n",
      "visited: D\n",
      "neighbors of D (to visit next): []\n",
      "visited: C\n",
      "neighbors of C (to visit next): ['E']\n",
      "visited: E\n",
      "neighbors of E (to visit next): []\n",
      " DFS complete\n"
     ]
    }
   ],
   "source": [
    "\n",
    "# Task 1: DFS with Stack & Node\n",
    "class Node:\n",
    "    def __init__(self,value):\n",
    "        self.value = value\n",
    "        self.neighbours = []\n",
    "    def add_neighbours(self,node):\n",
    "        self.neighbours.append(node)\n",
    "def dfs_with_stack(start_node):\n",
    "    stack = []\n",
    "    visited = set()\n",
    "    stack.append(start_node)\n",
    "    print(f'starting dfs from node: {start_node.value}')\n",
    "    while stack:\n",
    "        node = stack.pop()\n",
    "        if node not in visited:\n",
    "            print(f'visited: {node.value}')\n",
    "            visited.add(node)\n",
    "            print(f'neighbors of {node.value} (to visit next): {[neighbours.value for neighbours in reversed(node.neighbours) if neighbours not in visited ]}')\n",
    "            \n",
    "            for neighbours in reversed(node.neighbours):\n",
    "                if neighbours not in visited:\n",
    "                    stack.append(neighbours)\n",
    "    print(\" DFS complete\")\n",
    "def perform_dfs_on_list(node_list):\n",
    "    if not node_list:\n",
    "        print(\"no nodes to traverses\") \n",
    "        return\n",
    "    start_node = node_list[0]\n",
    "    print(f'nodes provided: {[node.value for node in node_list]}')\n",
    "\n",
    "    dfs_with_stack(start_node)\n",
    "\n",
    "                      \n",
    "\n",
    "if __name__ == \"__main__\":\n",
    "    a = Node(\"A\")\n",
    "    b = Node(\"B\")\n",
    "    c = Node(\"C\")\n",
    "    d = Node(\"D\")\n",
    "    e = Node(\"E\")\n",
    "    a.add_neighbours(b)\n",
    "    a.add_neighbours(c)\n",
    "    b.add_neighbours(d)\n",
    "    c.add_neighbours(e)\n",
    "    nodes = [a,b,c,d,e]\n",
    "    perform_dfs_on_list(nodes)\n"
   ]
  },
  {
   "cell_type": "code",
   "execution_count": 4,
   "metadata": {},
   "outputs": [],
   "source": [
    "# Task 2: Research about \"Inorder, Preorder, Postorder\" and implement in DFS\n",
    "\n",
    "class treenode:\n",
    "    def __init__(self, value):\n",
    "        self.value = value\n",
    "        self.left = None\n",
    "        self.right = None\n",
    "def inorder_traversal(root):\n",
    "    if root:\n",
    "        inorder_traversal(root.left)\n",
    "        print(root.value, end=\" \")\n",
    "        inorder_traversal(root.right)\n"
   ]
  },
  {
   "cell_type": "code",
   "execution_count": 5,
   "metadata": {},
   "outputs": [],
   "source": [
    "def preorder_traversal(root):\n",
    "    if root:\n",
    "        print(root.value, end=\" \")\n",
    "        preorder_traversal(root.left)\n",
    "        preorder_traversal(root.right)\n",
    "def postorder_traversal(root):\n",
    "    if root:\n",
    "        postorder_traversal(root.left)\n",
    "        postorder_traversal(root.right)\n",
    "        print(root.value, end=\" \")        \n"
   ]
  },
  {
   "cell_type": "code",
   "execution_count": 6,
   "metadata": {},
   "outputs": [
    {
     "name": "stdout",
     "output_type": "stream",
     "text": [
      "inorder_traversal\n",
      "D B E A C F \n",
      "\n",
      "preorder_traversal\n",
      "A B D E C F \n",
      "\n",
      "postorder_traversal\n",
      "D E B F C A \n",
      "\n"
     ]
    }
   ],
   "source": [
    "if __name__ == \"__main__\":\n",
    "    root = treenode(\"A\")\n",
    "    root.left = treenode(\"B\")\n",
    "    root.right = treenode(\"C\")\n",
    "    root.left.left = treenode(\"D\")\n",
    "    root.left.right = treenode(\"E\")\n",
    "    root.right.right = treenode(\"F\")\n",
    "    print(\"inorder_traversal\")\n",
    "    inorder_traversal(root)\n",
    "    print(\"\\n\")\n",
    "    print(\"preorder_traversal\")\n",
    "    preorder_traversal(root)\n",
    "    print(\"\\n\")\n",
    "    print(\"postorder_traversal\")\n",
    "    postorder_traversal(root)\n",
    "    print(\"\\n\")"
   ]
  },
  {
   "cell_type": "code",
   "execution_count": null,
   "metadata": {},
   "outputs": [],
   "source": []
  }
 ],
 "metadata": {
  "kernelspec": {
   "display_name": "Python 3",
   "language": "python",
   "name": "python3"
  },
  "language_info": {
   "codemirror_mode": {
    "name": "ipython",
    "version": 3
   },
   "file_extension": ".py",
   "mimetype": "text/x-python",
   "name": "python",
   "nbconvert_exporter": "python",
   "pygments_lexer": "ipython3",
   "version": "3.12.1"
  }
 },
 "nbformat": 4,
 "nbformat_minor": 2
}
