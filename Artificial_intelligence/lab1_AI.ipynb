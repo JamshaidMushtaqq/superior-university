{
 "cells": [
  {
   "cell_type": "code",
   "execution_count": 3,
   "metadata": {},
   "outputs": [
    {
     "name": "stdout",
     "output_type": "stream",
     "text": [
      "\n",
      " options: \n",
      "1. Add task\n",
      "2. remove task\n",
      "3. view tasks\n",
      "4. exit \n",
      "task added successfully: 'hgfdjk'\n",
      "\n",
      " options: \n",
      "1. Add task\n",
      "2. remove task\n",
      "3. view tasks\n",
      "4. exit \n",
      "to do list:\n",
      "1.hgfdjk\n",
      "invalid task number.\n",
      "\n",
      " options: \n",
      "1. Add task\n",
      "2. remove task\n",
      "3. view tasks\n",
      "4. exit \n",
      "exiting the todo list application.\n"
     ]
    }
   ],
   "source": [
    "# question no 1\n",
    "# TO DO LIST(dynamic)\n",
    "class todolist:\n",
    "    def __init__(self):\n",
    "        self.tasks = []\n",
    "    def add_task(self, task):\n",
    "        self.tasks.append(task)\n",
    "        print(f\"task added successfully: '{task}'\")\n",
    "    def remove_task(self,task_num):\n",
    "        if 0 <= task_num < len(self.tasks):\n",
    "            removed_tasks = self.tasks.pop(task_num)\n",
    "            print(f\"removed tasks: '{removed_tasks}'\")\n",
    "        else: \n",
    "            print('invalid task number.')\n",
    "    def view_tasks(self):\n",
    "        if self.tasks:\n",
    "            print(\"to do list:\")\n",
    "            for i, task in enumerate(self.tasks):\n",
    "                print(f'{i + 1}.{task}')\n",
    "        else:\n",
    "             print(\"your to do list is empty.\")\n",
    "def main():\n",
    "    obj = todolist()\n",
    "    while True:\n",
    "        print(\"\\n options: \")\n",
    "        print(\"1. Add task\")\n",
    "        print(\"2. remove task\")\n",
    "        print(\"3. view tasks\")\n",
    "        print(\"4. exit \")\n",
    "\n",
    "        choice = input(\"choice an option (1-4): \")\n",
    "        if choice == \"1\":\n",
    "            task = input(\"enter the task: \")\n",
    "            obj.add_task(task)\n",
    "        elif choice ==\"2\":\n",
    "            obj.view_tasks()\n",
    "            task_num = int(input(\"enter the task num to remove:\")) -1\n",
    "            obj.remove_task(task_num)\n",
    "        elif choice == '3':\n",
    "            obj.view_tasks()\n",
    "        elif choice == \"4\":\n",
    "            print('exiting the todo list application.')\n",
    "            break\n",
    "        else:\n",
    "            print('invalid choice please select again') \n",
    "if __name__ == \"__main__\":\n",
    "    main()            \n",
    "\n"
   ]
  },
  {
   "cell_type": "code",
   "execution_count": null,
   "metadata": {},
   "outputs": [],
   "source": []
  }
 ],
 "metadata": {
  "kernelspec": {
   "display_name": "Python 3",
   "language": "python",
   "name": "python3"
  },
  "language_info": {
   "codemirror_mode": {
    "name": "ipython",
    "version": 3
   },
   "file_extension": ".py",
   "mimetype": "text/x-python",
   "name": "python",
   "nbconvert_exporter": "python",
   "pygments_lexer": "ipython3",
   "version": "3.12.1"
  }
 },
 "nbformat": 4,
 "nbformat_minor": 2
}
