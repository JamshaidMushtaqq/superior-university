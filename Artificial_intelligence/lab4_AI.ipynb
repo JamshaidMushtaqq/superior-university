{
 "cells": [
  {
   "cell_type": "code",
   "execution_count": 1,
   "metadata": {},
   "outputs": [
    {
     "name": "stdout",
     "output_type": "stream",
     "text": [
      "valid master card no\n"
     ]
    }
   ],
   "source": [
    "# Question no 1\n",
    "#  Code for LUHN Algorithm \n",
    "\n",
    "master_card_no= int(input(\"enter your master card no:\"))\n",
    "i = [int(x) for x in str(master_card_no)]\n",
    "for j in range(0, len(i),2):\n",
    "    i[j] = i[j]*2\n",
    "for j in range(0, len(i)):\n",
    "    if i[j] > 9:\n",
    "        i[j] = i[j] -9\n",
    "total = sum(i)\n",
    "if total % 10 == 0:\n",
    "    print(\"valid master card no\") \n",
    "else:\n",
    "    print(\"invalid master card no\")\n",
    "\n",
    "\n"
   ]
  },
  {
   "cell_type": "code",
   "execution_count": 4,
   "metadata": {},
   "outputs": [
    {
     "name": "stdout",
     "output_type": "stream",
     "text": [
      "fdxgdf,f/dfs!d;\n",
      "fdxgdff/dfs!d;\n",
      "fdxgdffdfs!d;\n",
      "fdxgdffdfsd;\n",
      "fdxgdffdfsd\n"
     ]
    }
   ],
   "source": [
    "# question no 2 punctuation remover\n",
    "import string\n",
    "text = input(\"enter a string:\")\n",
    "for i in text:\n",
    "    if i in string.punctuation:\n",
    "        text = text.replace(i,\"\")\n",
    "        print(text)\n",
    "\n"
   ]
  },
  {
   "cell_type": "code",
   "execution_count": 10,
   "metadata": {},
   "outputs": [
    {
     "name": "stdout",
     "output_type": "stream",
     "text": [
      "apple banana mango orange\n"
     ]
    }
   ],
   "source": [
    "# Question no 3\n",
    "# Alphabetical Order\n",
    "\n",
    "def sort_text_alphabatically(text):\n",
    "    words = text.split()\n",
    "    for i in range(len(words)):\n",
    "        for j in range(len(words) - 1):\n",
    "            if words[i] > words[j + 1]:\n",
    "                words[i], words[j+1] = words[j+1], words[i]\n",
    "                return ' '.join(words)\n",
    "\n",
    "input_text = \"banana apple mango orange\"\n",
    "sorted_txt = sort_text_alphabatically(input_text)\n",
    "print(sorted_txt)\n",
    "\n"
   ]
  },
  {
   "cell_type": "code",
   "execution_count": null,
   "metadata": {},
   "outputs": [],
   "source": []
  }
 ],
 "metadata": {
  "kernelspec": {
   "display_name": "Python 3",
   "language": "python",
   "name": "python3"
  },
  "language_info": {
   "codemirror_mode": {
    "name": "ipython",
    "version": 3
   },
   "file_extension": ".py",
   "mimetype": "text/x-python",
   "name": "python",
   "nbconvert_exporter": "python",
   "pygments_lexer": "ipython3",
   "version": "3.12.1"
  }
 },
 "nbformat": 4,
 "nbformat_minor": 2
}
